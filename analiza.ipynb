{
 "cells": [
  {
   "cell_type": "markdown",
   "metadata": {},
   "source": [
    "# Imports"
   ]
  },
  {
   "cell_type": "code",
   "execution_count": 1,
   "metadata": {},
   "outputs": [],
   "source": [
    "import pandas as pd\n",
    "import os\n",
    "import sys\n",
    "from nltk.tokenize import word_tokenize \n",
    "from nltk.corpus import stopwords\n",
    "import xml.etree.ElementTree as ET\n",
    "import numpy as np\n",
    "import nltk\n",
    "import string\n",
    "from nltk.stem import PorterStemmer, SnowballStemmer\n",
    "from sklearn.feature_extraction.text import CountVectorizer\n",
    "from sklearn.model_selection import train_test_split\n",
    "import pickle\n",
    "from sklearn import naive_bayes\n",
    "from sklearn.metrics import roc_auc_score\n",
    "from sklearn.preprocessing import LabelEncoder\n",
    "from sklearn import model_selection, naive_bayes, svm\n",
    "from numpy import loadtxt\n",
    "from tensorflow.keras.preprocessing.text import Tokenizer\n",
    "from tensorflow.keras.preprocessing.sequence import pad_sequences\n",
    "from tensorflow.keras.models import Sequential\n",
    "from tensorflow.keras.layers import Dense, Embedding, LSTM, GRU\n",
    "from tensorflow.keras.layers import Embedding, BatchNormalization\n",
    "from tensorflow.keras.initializers import Constant\n",
    "from tensorflow.keras import optimizers\n",
    "from tensorflow.keras.models import model_from_json\n",
    "import tensorflow\n",
    "import seaborn as sns\n",
    "import matplotlib.pyplot as plt\n",
    "from sklearn.metrics import confusion_matrix"
   ]
  },
  {
   "cell_type": "markdown",
   "metadata": {},
   "source": [
    "# Import baza"
   ]
  },
  {
   "cell_type": "code",
   "execution_count": 2,
   "metadata": {},
   "outputs": [
    {
     "name": "stderr",
     "output_type": "stream",
     "text": [
      "<ipython-input-2-188140d0ec44>:7: SettingWithCopyWarning: \n",
      "A value is trying to be set on a copy of a slice from a DataFrame\n",
      "\n",
      "See the caveats in the documentation: https://pandas.pydata.org/pandas-docs/stable/user_guide/indexing.html#returning-a-view-versus-a-copy\n",
      "  data['sentiment'][ind] = 1\n",
      "<ipython-input-2-188140d0ec44>:9: SettingWithCopyWarning: \n",
      "A value is trying to be set on a copy of a slice from a DataFrame\n",
      "\n",
      "See the caveats in the documentation: https://pandas.pydata.org/pandas-docs/stable/user_guide/indexing.html#returning-a-view-versus-a-copy\n",
      "  data['sentiment'][ind] = 0\n"
     ]
    }
   ],
   "source": [
    "data = pd.read_csv('pctoken.csv', delimiter = '\\t', encoding = 'utf-16', header = None)\n",
    "data.columns = ['produs', 'rating', 'stem', 'text', 'initial']\n",
    "\n",
    "data['sentiment'] = 0\n",
    "for ind in data.index:\n",
    "    if data['rating'][ind] > 3:\n",
    "        data['sentiment'][ind] = 1\n",
    "    elif data['rating'][ind] <= 3:\n",
    "        data['sentiment'][ind] = 0"
   ]
  },
  {
   "cell_type": "markdown",
   "metadata": {},
   "source": [
    "# Naive Bayes"
   ]
  },
  {
   "cell_type": "code",
   "execution_count": 12,
   "metadata": {},
   "outputs": [
    {
     "data": {
      "text/plain": [
       "0.7192375877151246"
      ]
     },
     "execution_count": 12,
     "metadata": {},
     "output_type": "execute_result"
    }
   ],
   "source": [
    "vectorizer = CountVectorizer(lowercase = True)\n",
    "y = data.sentiment\n",
    "x = vectorizer.fit_transform(data.stem)\n",
    "\n",
    "X_train, X_test, y_train, y_test = train_test_split(x, y, test_size = 0.3)\n",
    "clf = naive_bayes.MultinomialNB()\n",
    "clf.fit(X_train, y_train)\n",
    "roc_auc_score(y_test, clf.predict_proba(X_test)[:,1])"
   ]
  },
  {
   "cell_type": "code",
   "execution_count": 4,
   "metadata": {
    "scrolled": true
   },
   "outputs": [
    {
     "name": "stdout",
     "output_type": "stream",
     "text": [
      "[1 1 1]\n"
     ]
    }
   ],
   "source": [
    "sample = np.array(['un produs excelent, il folosesc in fiecare zi', 'nu imi place acest produs', 'produsul nu functioneaza cum trebuie'])\n",
    "vect_sample = vectorizer.transform(sample)\n",
    "print(clf.predict(vect_sample))"
   ]
  },
  {
   "cell_type": "markdown",
   "metadata": {},
   "source": [
    "# Retea Neurala"
   ]
  },
  {
   "cell_type": "code",
   "execution_count": 5,
   "metadata": {},
   "outputs": [
    {
     "name": "stdout",
     "output_type": "stream",
     "text": [
      "5931\n"
     ]
    }
   ],
   "source": [
    "x_train, x_test, y_train, y_test = model_selection.train_test_split(data['stem'], data['sentiment'], test_size=0.4)\n",
    "x_train = x_train.values\n",
    "x_test = x_test.values\n",
    "\n",
    "y_train = y_train.values\n",
    "y_test = y_test.values\n",
    "\n",
    "print(len(x_train) + len(x_test))\n",
    "\n",
    "x_all = list(x_train) + list(x_test)\n",
    "tokenizer_obj = Tokenizer()\n",
    "tokenizer_obj.fit_on_texts(x_all)\n",
    "\n",
    "with open('tokenizer.obj', 'wb') as tokenizer_file:\n",
    "    pickle.dump(tokenizer_obj, tokenizer_file)\n",
    "\n",
    "vocab_size = len(tokenizer_obj.word_index) + 1\n",
    "\n",
    "EMBEDDING_DIM = 100\n",
    "\n",
    "max_length = max([len(s.split()) for s in x_all])\n",
    "\n",
    "x_train_tokens = tokenizer_obj.texts_to_sequences(x_train)\n",
    "x_test_tokens = tokenizer_obj.texts_to_sequences(x_test)\n",
    "x_train_pad = pad_sequences(x_train_tokens, maxlen=max_length, padding='post')\n",
    "x_test_pad = pad_sequences(x_test_tokens, maxlen=max_length, padding='post')\n"
   ]
  },
  {
   "cell_type": "code",
   "execution_count": 6,
   "metadata": {},
   "outputs": [
    {
     "name": "stdout",
     "output_type": "stream",
     "text": [
      "Model: \"sequential\"\n",
      "_________________________________________________________________\n",
      "Layer (type)                 Output Shape              Param #   \n",
      "=================================================================\n",
      "embedding (Embedding)        (None, 529, 100)          1043000   \n",
      "_________________________________________________________________\n",
      "gru (GRU)                    (None, 64)                31872     \n",
      "_________________________________________________________________\n",
      "batch_normalization (BatchNo (None, 64)                256       \n",
      "_________________________________________________________________\n",
      "dense (Dense)                (None, 1)                 65        \n",
      "=================================================================\n",
      "Total params: 1,075,193\n",
      "Trainable params: 1,075,065\n",
      "Non-trainable params: 128\n",
      "_________________________________________________________________\n",
      "None\n",
      "Started training the model...\n",
      "Epoch 1/10\n",
      "112/112 - 46s - loss: 0.3584 - accuracy: 0.8763 - val_loss: 0.3245 - val_accuracy: 0.9111\n",
      "Epoch 2/10\n",
      "112/112 - 43s - loss: 0.2469 - accuracy: 0.9084 - val_loss: 0.2550 - val_accuracy: 0.9119\n",
      "Epoch 3/10\n",
      "112/112 - 43s - loss: 0.1570 - accuracy: 0.9444 - val_loss: 0.2827 - val_accuracy: 0.9098\n",
      "Epoch 4/10\n",
      "112/112 - 42s - loss: 0.0958 - accuracy: 0.9682 - val_loss: 0.3482 - val_accuracy: 0.9001\n",
      "Epoch 5/10\n",
      "112/112 - 42s - loss: 0.0688 - accuracy: 0.9786 - val_loss: 0.4739 - val_accuracy: 0.8854\n",
      "Epoch 6/10\n",
      "112/112 - 42s - loss: 0.0466 - accuracy: 0.9854 - val_loss: 0.5742 - val_accuracy: 0.8462\n",
      "Epoch 7/10\n",
      "112/112 - 42s - loss: 0.0398 - accuracy: 0.9865 - val_loss: 0.6786 - val_accuracy: 0.8470\n",
      "Epoch 8/10\n",
      "112/112 - 42s - loss: 0.0323 - accuracy: 0.9902 - val_loss: 0.6290 - val_accuracy: 0.8828\n",
      "Epoch 9/10\n",
      "112/112 - 43s - loss: 0.0277 - accuracy: 0.9921 - val_loss: 0.6845 - val_accuracy: 0.8883\n",
      "Epoch 10/10\n",
      "112/112 - 42s - loss: 0.0326 - accuracy: 0.9893 - val_loss: 0.6747 - val_accuracy: 0.8997\n",
      "Done training the model...\n"
     ]
    }
   ],
   "source": [
    "rnn_model = Sequential()\n",
    "rnn_model.add(Embedding(vocab_size, EMBEDDING_DIM, input_length=max_length))\n",
    "rnn_model.add(GRU(units=64, dropout=0.1, recurrent_dropout=0.1))\n",
    "rnn_model.add(BatchNormalization())\n",
    "rnn_model.add(Dense(1, activation='sigmoid'))\n",
    "\n",
    "_optimizer = optimizers.RMSprop(lr=0.01)\n",
    "rnn_model.compile(loss='binary_crossentropy', optimizer=_optimizer, metrics=['accuracy'])\n",
    "print(rnn_model.summary())\n",
    "\n",
    "print('Started training the model...')\n",
    "early_stopping = tensorflow.keras.callbacks.EarlyStopping(monitor='val_accuracy', patience=10)\n",
    "history = rnn_model.fit(x_train_pad, y_train, \n",
    "                        batch_size=32, \n",
    "                        epochs=10, \n",
    "                        validation_data=(x_test_pad, y_test), \n",
    "                        callbacks=[early_stopping],\n",
    "                        verbose=2)\n",
    "print('Done training the model...')\n"
   ]
  },
  {
   "cell_type": "code",
   "execution_count": null,
   "metadata": {},
   "outputs": [],
   "source": [
    "def store_model(_model, path='./', file_prefix='model_sentiment_rnn'):\n",
    "    \n",
    "    # serialize model to JSON\n",
    "    model_json = _model.to_json()\n",
    "    json_file_path = os.path.join(path, \"{}.json\".format(file_prefix))\n",
    "    print('Started saving model JSON to {}'.format(json_file_path))\n",
    "    assert os.path.exists(path)\n",
    "    with open(json_file_path, \"w+\") as json_file:\n",
    "        json_file.write(model_json)\n",
    "    print(\"Done saving model JSON to {}\".format(json_file_path))\n",
    "    \n",
    "    # serialize weights to HDF5\n",
    "    weights_file_path = os.path.join(path, '{}.h5'.format(file_prefix))\n",
    "    print(\"Started saving model weights to {}\".format(weights_file_path))\n",
    "    _model.save_weights(weights_file_path)\n",
    "    print(\"Done saving model weights to {}\".format(weights_file_path))\n",
    "\n",
    "store_model(rnn_model)\n",
    "\n",
    "\n",
    "def load_model(path='./', file_prefix='model_sentiment_rnn'):\n",
    "    # load json and create model\n",
    "    print('Started loading model from JSON file')\n",
    "    with open('{}.json'.format(file_prefix), 'r') as json_file:\n",
    "        loaded_model_json = json_file.read()\n",
    "    loaded_model = model_from_json(loaded_model_json)\n",
    "    print('Done loading model from JSON file')\n",
    "    \n",
    "    # load weights into new model\n",
    "    print(\"Starting loading model from disk\")\n",
    "    weights_file_path = os.path.join(path, '{}.h5'.format(file_prefix))\n",
    "    assert os.path.exists(weights_file_path)\n",
    "    loaded_model.load_weights(weights_file_path)\n",
    "    print(\"Done loading model from disk from file: {}\".format(weights_file_path))\n",
    "    return loaded_model\n",
    "\n",
    "model = load_model()"
   ]
  },
  {
   "cell_type": "code",
   "execution_count": 7,
   "metadata": {},
   "outputs": [
    {
     "name": "stdout",
     "output_type": "stream",
     "text": [
      "dict_keys(['loss', 'accuracy', 'val_loss', 'val_accuracy'])\n"
     ]
    },
    {
     "data": {
      "image/png": "[encoded data removed]",
      "text/plain": [
       "<Figure size 432x288 with 1 Axes>"
      ]
     },
     "metadata": {
      "needs_background": "light"
     },
     "output_type": "display_data"
    },
    {
     "data": {
      "image/png": "[encoded data removed]",
      "text/plain": [
       "<Figure size 432x288 with 1 Axes>"
      ]
     },
     "metadata": {
      "needs_background": "light"
     },
     "output_type": "display_data"
    }
   ],
   "source": [
    "print(history.history.keys())\n",
    "\n",
    "import matplotlib.pyplot as plt\n",
    "\n",
    "# Plot training & validation accuracy values\n",
    "plt.plot(history.history['accuracy'])\n",
    "plt.plot(history.history['val_accuracy'])\n",
    "plt.title('Model accuracy')\n",
    "plt.ylabel('Accuracy')\n",
    "plt.xlabel('Epoch')\n",
    "plt.legend(['Train', 'Test'], loc='lower right')\n",
    "plt.show()\n",
    "\n",
    "# Plot training & validation loss values\n",
    "plt.plot(history.history['loss'])\n",
    "plt.plot(history.history['val_loss'])\n",
    "plt.title('Model loss')\n",
    "plt.ylabel('Loss')\n",
    "plt.xlabel('Epoch')\n",
    "plt.legend(['Train', 'Test'], loc='center right')\n",
    "plt.show()"
   ]
  },
  {
   "cell_type": "code",
   "execution_count": 8,
   "metadata": {},
   "outputs": [
    {
     "data": {
      "text/plain": [
       "array([[  52,  159],\n",
       "       [  79, 2083]], dtype=int64)"
      ]
     },
     "execution_count": 8,
     "metadata": {},
     "output_type": "execute_result"
    }
   ],
   "source": [
    "predictions = rnn_model.predict(x_test_pad)\n",
    "y_pred = (predictions > 0.5)\n",
    "\n",
    "confusion_matrix(y_test, y_pred)"
   ]
  },
  {
   "cell_type": "code",
   "execution_count": 9,
   "metadata": {},
   "outputs": [
    {
     "data": {
      "text/plain": [
       "array([[0.93198633],\n",
       "       [0.93198633],\n",
       "       [0.93198633]], dtype=float32)"
      ]
     },
     "execution_count": 9,
     "metadata": {},
     "output_type": "execute_result"
    }
   ],
   "source": [
    "test_samples_tokens = tokenizer_obj.texts_to_sequences(sample)\n",
    "test_samples_tokens_pad = pad_sequences(test_samples_tokens, maxlen=max_length)\n",
    "\n",
    "rnn_model.predict(x=test_samples_tokens_pad, batch_size=10, verbose=0)"
   ]
  },
  {
   "cell_type": "code",
   "execution_count": 10,
   "metadata": {},
   "outputs": [
    {
     "name": "stdout",
     "output_type": "stream",
     "text": [
      "WARNING:tensorflow:From C:\\Users\\Mihai\\AppData\\Roaming\\Python\\Python38\\site-packages\\tensorflow\\python\\compat\\v2_compat.py:96: disable_resource_variables (from tensorflow.python.ops.variable_scope) is deprecated and will be removed in a future version.\n",
      "Instructions for updating:\n",
      "non-resource variables are not supported in the long term\n",
      "curses is not supported on this machine (please install/reinstall curses for an optimal experience)\n",
      "WARNING:tensorflow:From C:\\Users\\Mihai\\anaconda3\\lib\\site-packages\\tflearn\\initializations.py:164: calling TruncatedNormal.__init__ (from tensorflow.python.ops.init_ops) with dtype is deprecated and will be removed in a future version.\n",
      "Instructions for updating:\n",
      "Call initializer instance with the dtype argument instead of passing it to the constructor\n",
      "WARNING:tensorflow:From C:\\Users\\Mihai\\anaconda3\\lib\\site-packages\\tflearn\\layers\\recurrent.py:67: static_rnn (from tensorflow.python.ops.rnn) is deprecated and will be removed in a future version.\n",
      "Instructions for updating:\n",
      "Please use `keras.layers.RNN(cell, unroll=True)`, which is equivalent to this API\n",
      "WARNING:tensorflow:From C:\\Users\\Mihai\\AppData\\Roaming\\Python\\Python38\\site-packages\\tensorflow\\python\\util\\dispatch.py:201: calling dropout (from tensorflow.python.ops.nn_ops) with keep_prob is deprecated and will be removed in a future version.\n",
      "Instructions for updating:\n",
      "Please use `rate` instead of `keep_prob`. Rate should be set to `rate = 1 - keep_prob`.\n",
      "INFO:tensorflow:Restoring parameters from C:\\Users\\Mihai\\prelucrarea_datelor_text\\checkpoints\\ro\\rotf.tfl\n"
     ]
    }
   ],
   "source": [
    "from predict import sentiment_init, convertTextToIndex\n",
    "model = sentiment_init('ro')"
   ]
  },
  {
   "cell_type": "code",
   "execution_count": 11,
   "metadata": {},
   "outputs": [
    {
     "name": "stdout",
     "output_type": "stream",
     "text": [
      " text =un produs excelent, il folosesc in fiecare zi\n",
      "negative=0.0047043585\n",
      "positive=0.9952956\n",
      " text =nu imi place acest produs\n",
      "negative=0.7451168\n",
      "positive=0.25488326\n",
      " text =produsul nu functioneaza cum trebuie\n",
      "negative=0.27072763\n",
      "positive=0.7292723\n"
     ]
    }
   ],
   "source": [
    "import tensorflow as tf\n",
    "import pickle\n",
    "tf.get_logger().setLevel('INFO')\n",
    "f = open('./dictionaries/'+'ro'+'dictionary.pickle', 'rb')\n",
    "dictionary = pickle.load(f)\n",
    "f.close()\n",
    "data4 = pd.DataFrame()\n",
    "sample = np.array(['un produs excelent, il folosesc in fiecare zi', 'nu imi place acest produs', 'produsul nu functioneaza cum trebuie'])\n",
    "for i in sample:\n",
    "    try:\n",
    "        text = i\n",
    "        result = model.predict([convertTextToIndex(dictionary, text)])\n",
    "        print(' text ='+text)\n",
    "        print(\"negative=\"+str(result[0][0]))\n",
    "        print(\"positive=\"+ str(result[0][1]))\n",
    "    except Exception as e:\n",
    "        print(e)\n"
   ]
  },
  {
   "cell_type": "code",
   "execution_count": null,
   "metadata": {},
   "outputs": [],
   "source": []
  }
 ],
 "metadata": {
  "kernelspec": {
   "display_name": "Python 3",
   "language": "python",
   "name": "python3"
  },
  "language_info": {
   "codemirror_mode": {
    "name": "ipython",
    "version": 3
   },
   "file_extension": ".py",
   "mimetype": "text/x-python",
   "name": "python",
   "nbconvert_exporter": "python",
   "pygments_lexer": "ipython3",
   "version": "3.8.3"
  }
 },
 "nbformat": 4,
 "nbformat_minor": 4
}
