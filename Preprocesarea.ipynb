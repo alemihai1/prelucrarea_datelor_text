{
 "cells": [
  {
   "cell_type": "code",
   "execution_count": 11,
   "metadata": {},
   "outputs": [],
   "source": [
    "import pandas as pd\n",
    "import os\n",
    "import sys\n",
    "from nltk.tokenize import word_tokenize \n",
    "from nltk.corpus import stopwords\n",
    "import xml.etree.ElementTree as ET\n",
    "import numpy as np\n",
    "import nltk\n",
    "import string\n",
    "from nltk.stem import PorterStemmer, SnowballStemmer\n"
   ]
  },
  {
   "cell_type": "code",
   "execution_count": 12,
   "metadata": {},
   "outputs": [],
   "source": [
    "#import baza\n",
    "df = pd.read_csv('pcgarage.csv', delimiter = '\\t', encoding = 'utf-16', header = 0)\n"
   ]
  },
  {
   "cell_type": "code",
   "execution_count": 13,
   "metadata": {},
   "outputs": [],
   "source": [
    "#preprocesare   \n",
    "#eliminarea elementelor nedorite\n",
    "df['pro'] = df['pro'].str[4:]\n",
    "df['contra'] = df['contra'].str[8:]\n",
    "df['altele'] = df['altele'].str[8:]"
   ]
  },
  {
   "cell_type": "code",
   "execution_count": 14,
   "metadata": {},
   "outputs": [],
   "source": [
    "#concatenarea partilor\n",
    "df[\"corpus\"] = df[\"pro\"].astype(str) + \" \" + df[\"contra\"].astype(str) + \" \" + df[\"altele\"].astype(str)\n",
    "data = df[['product', 'rating', 'corpus']].copy()\n",
    "data['corpus'] = [it.lower().replace('\\n\\n', ' ') for it in data['corpus']]"
   ]
  },
  {
   "cell_type": "code",
   "execution_count": 15,
   "metadata": {},
   "outputs": [],
   "source": [
    "#transformarea majusculelor\n",
    "data['corpus'] = data.corpus.map(lambda x: x.lower())"
   ]
  },
  {
   "cell_type": "code",
   "execution_count": 16,
   "metadata": {},
   "outputs": [],
   "source": [
    "#tokenizarea + stopwords\n",
    "data['corpus'] = data['corpus'].apply(nltk.word_tokenize)\n",
    "data['corpus'] = data.corpus.map(lambda txt: [word for word in txt if word.isalpha()])\n",
    "STOPWORDS = set(stopwords.words('romanian'))\n",
    "PUNCTUATION_SIGNS = [c for c in string.punctuation] + ['``', \"''\", '...', '..']\n",
    "data['corpus'] = data.corpus.map(lambda txt: [word.strip() for word in txt if word not in STOPWORDS])\n",
    "data['corpus'] = data.corpus.map(lambda txt: [word.strip() for word in txt if word not in PUNCTUATION_SIGNS ])"
   ]
  },
  {
   "cell_type": "code",
   "execution_count": 17,
   "metadata": {},
   "outputs": [],
   "source": [
    "#eliminarea review-urilor relevante\n",
    "for i in data.index:\n",
    "    if len(data.loc[i,'corpus']) < 4:\n",
    "        data = data.drop(i)"
   ]
  },
  {
   "cell_type": "code",
   "execution_count": 18,
   "metadata": {},
   "outputs": [
    {
     "data": {
      "text/html": [
       "<div>\n",
       "<style scoped>\n",
       "    .dataframe tbody tr th:only-of-type {\n",
       "        vertical-align: middle;\n",
       "    }\n",
       "\n",
       "    .dataframe tbody tr th {\n",
       "        vertical-align: top;\n",
       "    }\n",
       "\n",
       "    .dataframe thead th {\n",
       "        text-align: right;\n",
       "    }\n",
       "</style>\n",
       "<table border=\"1\" class=\"dataframe\">\n",
       "  <thead>\n",
       "    <tr style=\"text-align: right;\">\n",
       "      <th></th>\n",
       "      <th>product</th>\n",
       "      <th>rating</th>\n",
       "      <th>corpus</th>\n",
       "    </tr>\n",
       "  </thead>\n",
       "  <tbody>\n",
       "    <tr>\n",
       "      <th>0</th>\n",
       "      <td>Smartphone Xiaomi Redmi 9 (2020), Ecran IPS FH...</td>\n",
       "      <td>5</td>\n",
       "      <td>[petru, preț, ok, comport, raport, preț, contr...</td>\n",
       "    </tr>\n",
       "    <tr>\n",
       "      <th>1</th>\n",
       "      <td>Smartphone Xiaomi Redmi 9 (2020), Ecran IPS FH...</td>\n",
       "      <td>5</td>\n",
       "      <td>[perform, surprinz, procesor, fiind, compar, s...</td>\n",
       "    </tr>\n",
       "    <tr>\n",
       "      <th>2</th>\n",
       "      <td>Smartphone Xiaomi Redmi 9 (2020), Ecran IPS FH...</td>\n",
       "      <td>5</td>\n",
       "      <td>[telefon, mișc, bin, bloch, deloc, merg, bin, ...</td>\n",
       "    </tr>\n",
       "    <tr>\n",
       "      <th>3</th>\n",
       "      <td>Smartphone Xiaomi Poco X3 NFC, Display 120Hz, ...</td>\n",
       "      <td>5</td>\n",
       "      <td>[telefon, bun, pret, achizit, lei, poz, calita...</td>\n",
       "    </tr>\n",
       "    <tr>\n",
       "      <th>4</th>\n",
       "      <td>Smartphone Xiaomi Poco X3 NFC, Display 120Hz, ...</td>\n",
       "      <td>5</td>\n",
       "      <td>[produs, excelent, fiabil, preț, decent, bater...</td>\n",
       "    </tr>\n",
       "    <tr>\n",
       "      <th>5</th>\n",
       "      <td>Smartphone Xiaomi Poco X3 NFC, Display 120Hz, ...</td>\n",
       "      <td>5</td>\n",
       "      <td>[achizition, cadou, prieten, multum, buton, pu...</td>\n",
       "    </tr>\n",
       "    <tr>\n",
       "      <th>6</th>\n",
       "      <td>Smartphone Xiaomi Poco X3 NFC, Display 120Hz, ...</td>\n",
       "      <td>5</td>\n",
       "      <td>[pierd, semnal, convorbir, aud, persoan, vorb,...</td>\n",
       "    </tr>\n",
       "    <tr>\n",
       "      <th>7</th>\n",
       "      <td>Smartphone Xiaomi Poco X3 NFC, Display 120Hz, ...</td>\n",
       "      <td>5</td>\n",
       "      <td>[telefon, excelent, pret, perform, recomand, i...</td>\n",
       "    </tr>\n",
       "    <tr>\n",
       "      <th>8</th>\n",
       "      <td>Smartphone Xiaomi Poco X3 NFC, Display 120Hz, ...</td>\n",
       "      <td>5</td>\n",
       "      <td>[incarc, full, aproxim, ora, ora, jumat, poco,...</td>\n",
       "    </tr>\n",
       "    <tr>\n",
       "      <th>9</th>\n",
       "      <td>Smartphone Xiaomi Poco X3 NFC, Display 120Hz, ...</td>\n",
       "      <td>5</td>\n",
       "      <td>[raport, calitat, pret, bun]</td>\n",
       "    </tr>\n",
       "  </tbody>\n",
       "</table>\n",
       "</div>"
      ],
      "text/plain": [
       "                                             product  rating  \\\n",
       "0  Smartphone Xiaomi Redmi 9 (2020), Ecran IPS FH...       5   \n",
       "1  Smartphone Xiaomi Redmi 9 (2020), Ecran IPS FH...       5   \n",
       "2  Smartphone Xiaomi Redmi 9 (2020), Ecran IPS FH...       5   \n",
       "3  Smartphone Xiaomi Poco X3 NFC, Display 120Hz, ...       5   \n",
       "4  Smartphone Xiaomi Poco X3 NFC, Display 120Hz, ...       5   \n",
       "5  Smartphone Xiaomi Poco X3 NFC, Display 120Hz, ...       5   \n",
       "6  Smartphone Xiaomi Poco X3 NFC, Display 120Hz, ...       5   \n",
       "7  Smartphone Xiaomi Poco X3 NFC, Display 120Hz, ...       5   \n",
       "8  Smartphone Xiaomi Poco X3 NFC, Display 120Hz, ...       5   \n",
       "9  Smartphone Xiaomi Poco X3 NFC, Display 120Hz, ...       5   \n",
       "\n",
       "                                              corpus  \n",
       "0  [petru, preț, ok, comport, raport, preț, contr...  \n",
       "1  [perform, surprinz, procesor, fiind, compar, s...  \n",
       "2  [telefon, mișc, bin, bloch, deloc, merg, bin, ...  \n",
       "3  [telefon, bun, pret, achizit, lei, poz, calita...  \n",
       "4  [produs, excelent, fiabil, preț, decent, bater...  \n",
       "5  [achizition, cadou, prieten, multum, buton, pu...  \n",
       "6  [pierd, semnal, convorbir, aud, persoan, vorb,...  \n",
       "7  [telefon, excelent, pret, perform, recomand, i...  \n",
       "8  [incarc, full, aproxim, ora, ora, jumat, poco,...  \n",
       "9                       [raport, calitat, pret, bun]  "
      ]
     },
     "execution_count": 18,
     "metadata": {},
     "output_type": "execute_result"
    }
   ],
   "source": [
    "#stemming\n",
    "stemmer = SnowballStemmer(language=\"romanian\")  # PorterStemmer()\n",
    "data.head(10)\n",
    "data['corpus'] = data['corpus'].apply(lambda x: [stemmer.stem(y.strip()) for y in x if y])\n",
    "data.head(10)"
   ]
  },
  {
   "cell_type": "code",
   "execution_count": null,
   "metadata": {},
   "outputs": [],
   "source": [
    "data2 = data[['product', 'rating', 'corpus']].copy()\n",
    "data1 = list()\n",
    "for row in data2.iloc[:,2]:\n",
    "    lemmas = \"\"\n",
    "    for word in row:\n",
    "        sentences = cube(word)\n",
    "        for entry in sentences[0]:\n",
    "            lemmas += entry.lemma + \" \"\n",
    "            # now, we look for a space after the lemma to add it as well\n",
    "            if not \"SpaceAfter=No\" in entry.space_after:\n",
    "                lemmas += \" \"\n",
    "    data1.append(lemmas)\n",
    "data['text'] = data1\n",
    "\n",
    "for ind in data.index:\n",
    "    data['initial'][ind] = df.loc[ind,'corpus']"
   ]
  },
  {
   "cell_type": "code",
   "execution_count": null,
   "metadata": {},
   "outputs": [],
   "source": [
    "data.to_csv('pctoken.csv', sep = '\\t', encoding = 'utf-16', index = False, header = False)"
   ]
  }
 ],
 "metadata": {
  "kernelspec": {
   "display_name": "Python 3",
   "language": "python",
   "name": "python3"
  },
  "language_info": {
   "codemirror_mode": {
    "name": "ipython",
    "version": 3
   },
   "file_extension": ".py",
   "mimetype": "text/x-python",
   "name": "python",
   "nbconvert_exporter": "python",
   "pygments_lexer": "ipython3",
   "version": "3.8.3"
  }
 },
 "nbformat": 4,
 "nbformat_minor": 4
}
